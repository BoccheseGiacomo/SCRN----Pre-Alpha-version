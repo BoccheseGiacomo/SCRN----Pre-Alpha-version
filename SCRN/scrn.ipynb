{
 "cells": [
  {
   "cell_type": "code",
   "execution_count": 1,
   "metadata": {},
   "outputs": [],
   "source": [
    "#SCRN: self control reservoir network\n",
    "#basic linear implemetation\n",
    "#author: Bocchese Giacomo, 29-01-2023, giacomobocchese.business@gmail.com
\n",
    "#read the license before use: private agreement needed\n",
    "\n",
    "import numpy as np\n",
    "import matplotlib.pyplot as plt\n",
    "import pandas as pd\n",
    "import seaborn as sns\n",
    "import math\n",
    "import random\n",
    "import time\n"
   ]
  },
  {
   "cell_type": "code",
   "execution_count": 10,
   "metadata": {},
   "outputs": [],
   "source": [
    "#define looping function\n",
    "def update_state(x,inp,L,b,W_inp,mode='inference'):\n",
    "    #mode: 'inference' or 'training'\n",
    "    if mode=='inference':\n",
    "        noise=0\n",
    "    elif mode=='training':\n",
    "        noise=1e-4\n",
    "    weighted_input=W_inp.T@inp\n",
    "    x_new=L.T@x+b+weighted_input+np.random.normal(0,noise,x.shape)\n",
    "    looping_control=x_new[-1]<0.5\n",
    "    return x_new,looping_control\n",
    "\n",
    "def get_output(x,w_out):\n",
    "    out=w_out.T@x\n",
    "    #if it is a scalar, return a scalar\n",
    "    if out.shape==(1,1):\n",
    "        return out[0,0]\n",
    "    else:\n",
    "        return out\n",
    "\n",
    "\n",
    "#initialize weights\n",
    "W_inp=np.array(  #input weights\n",
    "    [[1,0,0],\n",
    "     [0,0,-1]]\n",
    ")\n",
    "W_out=np.array( #output weights\n",
    "    [[1],\n",
    "     [0],\n",
    "     [0]]\n",
    ")\n",
    "L=np.array( #linear reservoir weights\n",
    "    [[1,0,0],\n",
    "     [0,1,1],\n",
    "     [0,0,0]]\n",
    ")\n",
    "b=np.array( #reservoir bias\n",
    "    [[0],\n",
    "     [1],\n",
    "     [2.49]]\n",
    ")"
   ]
  },
  {
   "cell_type": "code",
   "execution_count": 11,
   "metadata": {},
   "outputs": [
    {
     "name": "stdout",
     "output_type": "stream",
     "text": [
      "\n",
      "\n",
      "the network output is:  105476.0\n",
      "\n",
      "correct output is    :  105476\n"
     ]
    }
   ],
   "source": [
    "#initialize state\n",
    "x=np.array(\n",
    "    [[0],\n",
    "     [0],\n",
    "     [0]]\n",
    ")\n",
    "\n",
    "#input: elements to be multiplied\n",
    "a1=28\n",
    "a2=3767\n",
    "inp=np.array(\n",
    "    [[a1],\n",
    "     [a2]]\n",
    ")\n",
    "\n",
    "#loop the reservoir\n",
    "looping_control=True\n",
    "while looping_control:\n",
    "    x,looping_control=update_state(x,inp,L,b,W_inp)\n",
    "\n",
    "#output\n",
    "print('\\n\\nthe network output is: ',get_output(x,W_out))\n",
    "print()\n",
    "print('correct output is    : ',a1*a2)"
   ]
  }
 ],
 "metadata": {
  "kernelspec": {
   "display_name": "py39",
   "language": "python",
   "name": "python3"
  },
  "language_info": {
   "codemirror_mode": {
    "name": "ipython",
    "version": 3
   },
   "file_extension": ".py",
   "mimetype": "text/x-python",
   "name": "python",
   "nbconvert_exporter": "python",
   "pygments_lexer": "ipython3",
   "version": "3.9.13"
  },
  "orig_nbformat": 4,
  "vscode": {
   "interpreter": {
    "hash": "0d0f3118e0c818932992693985449f0a8235d4adb1e348673641ab35acc5603f"
   }
  }
 },
 "nbformat": 4,
 "nbformat_minor": 2
}
